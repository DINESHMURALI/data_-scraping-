{
 "cells": [
  {
   "cell_type": "code",
   "execution_count": 2,
   "id": "352e9090",
   "metadata": {},
   "outputs": [],
   "source": [
    "import requests"
   ]
  },
  {
   "cell_type": "code",
   "execution_count": 3,
   "id": "461c60a2",
   "metadata": {},
   "outputs": [],
   "source": [
    "url = 'http://diehardindian.com/ward-offices-and-corporators/'"
   ]
  },
  {
   "cell_type": "code",
   "execution_count": 4,
   "id": "0364abfd",
   "metadata": {},
   "outputs": [],
   "source": [
    "response = requests.get(url)"
   ]
  },
  {
   "cell_type": "code",
   "execution_count": 5,
   "id": "cafa05c6",
   "metadata": {},
   "outputs": [
    {
     "data": {
      "text/plain": [
       "200"
      ]
     },
     "execution_count": 5,
     "metadata": {},
     "output_type": "execute_result"
    }
   ],
   "source": [
    "response.status_code"
   ]
  },
  {
   "cell_type": "code",
   "execution_count": 6,
   "id": "347fdb87",
   "metadata": {},
   "outputs": [],
   "source": [
    "from bs4 import BeautifulSoup"
   ]
  },
  {
   "cell_type": "code",
   "execution_count": 7,
   "id": "cfc74182",
   "metadata": {},
   "outputs": [],
   "source": [
    "page_contents = response.text"
   ]
  },
  {
   "cell_type": "code",
   "execution_count": 8,
   "id": "b6a13c7f",
   "metadata": {},
   "outputs": [],
   "source": [
    "with open('webpage.html', 'w') as f:\n",
    "    f.write(page_contents)"
   ]
  },
  {
   "cell_type": "code",
   "execution_count": 11,
   "id": "bfa0c31f",
   "metadata": {},
   "outputs": [],
   "source": [
    "doc = BeautifulSoup(page_contents, 'html.parser')"
   ]
  },
  {
   "cell_type": "code",
   "execution_count": 6,
   "id": "7279a3a9",
   "metadata": {},
   "outputs": [],
   "source": [
    "import pandas as pd"
   ]
  },
  {
   "cell_type": "markdown",
   "id": "ea9bad0c",
   "metadata": {},
   "source": [
    "### pandas has features to read html table, so no need of beautifulsoup or autoscrap to scrap the data"
   ]
  },
  {
   "cell_type": "code",
   "execution_count": 9,
   "id": "92196a68",
   "metadata": {},
   "outputs": [],
   "source": [
    "df = pd.read_html('http://diehardindian.com/ward-offices-and-corporators/')"
   ]
  },
  {
   "cell_type": "code",
   "execution_count": 16,
   "id": "99ee06b4",
   "metadata": {},
   "outputs": [
    {
     "data": {
      "text/plain": [
       "<bound method NDFrame.head of             0                                                  1\n",
       "0    BMC Ward                                            Contact\n",
       "1           A   22607000/ 22660883/ 9167203773/ ac.a@mcgm.gov.in\n",
       "2           B   23736622/ 23780133/ 9930128391/ ac.b@mcgm.gov.in\n",
       "3           C   22014022/ 22055450/ 9167203780/ ac.c@mcgm.gov.in\n",
       "4           D               23861426/ 23865201/ ac.d@mcgm.gov.in\n",
       "5           E                     23081471/ 23083695/ 9320698698\n",
       "6     F/South               24134560/ 24134545/63-65/ 9167203776\n",
       "7     F/North  24024353/ 24014275/ 9167203777/ ac.fn@mcgm.gov.in\n",
       "8     G/South  24305031/ 24223741/ 9820702624/ asstcom.ward.g...\n",
       "9     G/North  24197800/ 24300513/ 9167203772/ ac.gn@mcgm.gov.in\n",
       "10     H/East                               26138900/ 9867029319\n",
       "11     H/West  26422311-14/ 26422225/ 9820702607/ ac.HW@mcgm....\n",
       "12     K/East  26840103/ 26837104/ 26840986/ 9820702513/ ac.k...\n",
       "13     K/West  26239499/ 26239166/ 26232969/ 9820702609/ mcgm...\n",
       "14          L  26505103/ 26503104/ 9020702604/ hvgaa6@yahoo.c...\n",
       "15     M/East  25516871/ 25225000/ 25280542/ 9322594470/ ac.m...\n",
       "16     M/West    25281929/ 25294983/ 25281974/ ac.mw@mcgm.gov.in\n",
       "17          N                  25010161-65/ 25012440/ 9930128388\n",
       "18    P/South  28721186/ 28724252/ 9820702618/ ac.ps@mcgm.gov.in\n",
       "19    P/North  28823266/ 28824913/ 9920041485/ 9167203775/ ac...\n",
       "20    R/South  28056000/ 28065185/ 9167203774/ ac.rs@mcgm.gov.in\n",
       "21  R/Central  28946000/ 28912396/ 9167203778/ ac.rc@mcgm.gov.in\n",
       "22    R/North                     28936000/ 28920279/ 9833770992\n",
       "23          S  25947570-74/ 25948588/ 9167203771/ ac.s@mcgm.g...\n",
       "24          T  25645289-94/ 25617410/ 9167203779/ ac.t@mcgm.g...>"
      ]
     },
     "execution_count": 16,
     "metadata": {},
     "output_type": "execute_result"
    }
   ],
   "source": [
    "df[0].head"
   ]
  },
  {
   "cell_type": "markdown",
   "id": "f113e75e",
   "metadata": {},
   "source": [
    "### this url contains many tables, we only need Municipal Councillors contact information table"
   ]
  },
  {
   "cell_type": "code",
   "execution_count": 15,
   "id": "cd46c1b4",
   "metadata": {},
   "outputs": [
    {
     "data": {
      "text/plain": [
       "<bound method NDFrame.head of     Ward  Prabhag           Councillor name  \\\n",
       "0      A      225     Sanap Sujata Digvijay   \n",
       "1      A      226         Harshita Narvekar   \n",
       "2      A      227          Makrand Narvekar   \n",
       "3      B      223      Gyanraj Nikita Nikam   \n",
       "4      B      224          Afreen Lakdawala   \n",
       "..   ...      ...                       ...   \n",
       "222    T      104        Prakash Gangadhare   \n",
       "223    T      105               Rajani Keni   \n",
       "224    T      106  Prabhakar Tukaram Shinde   \n",
       "225    T      107              Smita Kamble   \n",
       "226    T      108              Neil Somaiya   \n",
       "\n",
       "                                Contact  \\\n",
       "0    9870040562/ 9892501545/ 9820915097   \n",
       "1                9619995533/ 9819095533   \n",
       "2                            9833105553   \n",
       "3                9819358628/ 9820030562   \n",
       "4                            9892553553   \n",
       "..                                  ...   \n",
       "222              9820026347/ 8879997102   \n",
       "223                          9664771110   \n",
       "224                          9819502777   \n",
       "225                        9820754224/5   \n",
       "226                          9967592582   \n",
       "\n",
       "                                    Constituency Areas  \n",
       "0    Fort, Brabourne Stadium, Colaba Market, Colaba...  \n",
       "1    Sasoon Docks, World Trade Centre, Cuffe Parade...  \n",
       "2    RC Church, Colaba Dandi, Navy Nagar, Geeta Nag...  \n",
       "3    Umarkhadi, Dana Bundar, Princess Dock, Wadi Bu...  \n",
       "4    Mahatma Phule Market (Crawford Market), Victor...  \n",
       "..                                                 ...  \n",
       "222  Mulund Railway Station (West), Tambe Nagar, In...  \n",
       "223  Mulund Railway Station (East), Gavhanpada, Nil...  \n",
       "224  Hariom Nagar, MHADA Colony, MHADA BEST Depot, ...  \n",
       "225  Nahurgaonthan, Mulund BEST Bus Depot, St. Paio...  \n",
       "226  Rahul Nagar, Moti Nagar, Hanumanpada, Asha Nag...  \n",
       "\n",
       "[227 rows x 5 columns]>"
      ]
     },
     "execution_count": 15,
     "metadata": {},
     "output_type": "execute_result"
    }
   ],
   "source": [
    "df[2].head"
   ]
  },
  {
   "cell_type": "markdown",
   "id": "316d3dd1",
   "metadata": {},
   "source": [
    "### saved to csv file"
   ]
  },
  {
   "cell_type": "code",
   "execution_count": 14,
   "id": "ad0a6098",
   "metadata": {},
   "outputs": [],
   "source": [
    "df[2].to_csv('Councillors_info.csv')"
   ]
  },
  {
   "cell_type": "markdown",
   "id": "f6303334",
   "metadata": {},
   "source": [
    "### website table Municipal Councillors contact information"
   ]
  },
  {
   "cell_type": "code",
   "execution_count": 15,
   "id": "18ed74af",
   "metadata": {},
   "outputs": [
    {
     "data": {
      "text/html": [
       "<div>\n",
       "<style scoped>\n",
       "    .dataframe tbody tr th:only-of-type {\n",
       "        vertical-align: middle;\n",
       "    }\n",
       "\n",
       "    .dataframe tbody tr th {\n",
       "        vertical-align: top;\n",
       "    }\n",
       "\n",
       "    .dataframe thead th {\n",
       "        text-align: right;\n",
       "    }\n",
       "</style>\n",
       "<table border=\"1\" class=\"dataframe\">\n",
       "  <thead>\n",
       "    <tr style=\"text-align: right;\">\n",
       "      <th></th>\n",
       "      <th>Unnamed: 0</th>\n",
       "      <th>Ward</th>\n",
       "      <th>Prabhag</th>\n",
       "      <th>Councillor name</th>\n",
       "      <th>Contact</th>\n",
       "      <th>Constituency Areas</th>\n",
       "    </tr>\n",
       "  </thead>\n",
       "  <tbody>\n",
       "    <tr>\n",
       "      <th>0</th>\n",
       "      <td>0</td>\n",
       "      <td>A</td>\n",
       "      <td>225</td>\n",
       "      <td>Sanap Sujata Digvijay</td>\n",
       "      <td>9870040562/ 9892501545/ 9820915097</td>\n",
       "      <td>Fort, Brabourne Stadium, Colaba Market, Colaba...</td>\n",
       "    </tr>\n",
       "    <tr>\n",
       "      <th>1</th>\n",
       "      <td>1</td>\n",
       "      <td>A</td>\n",
       "      <td>226</td>\n",
       "      <td>Harshita Narvekar</td>\n",
       "      <td>9619995533/ 9819095533</td>\n",
       "      <td>Sasoon Docks, World Trade Centre, Cuffe Parade...</td>\n",
       "    </tr>\n",
       "    <tr>\n",
       "      <th>2</th>\n",
       "      <td>2</td>\n",
       "      <td>A</td>\n",
       "      <td>227</td>\n",
       "      <td>Makrand Narvekar</td>\n",
       "      <td>9833105553</td>\n",
       "      <td>RC Church, Colaba Dandi, Navy Nagar, Geeta Nag...</td>\n",
       "    </tr>\n",
       "    <tr>\n",
       "      <th>3</th>\n",
       "      <td>3</td>\n",
       "      <td>B</td>\n",
       "      <td>223</td>\n",
       "      <td>Gyanraj Nikita Nikam</td>\n",
       "      <td>9819358628/ 9820030562</td>\n",
       "      <td>Umarkhadi, Dana Bundar, Princess Dock, Wadi Bu...</td>\n",
       "    </tr>\n",
       "    <tr>\n",
       "      <th>4</th>\n",
       "      <td>4</td>\n",
       "      <td>B</td>\n",
       "      <td>224</td>\n",
       "      <td>Afreen Lakdawala</td>\n",
       "      <td>9892553553</td>\n",
       "      <td>Mahatma Phule Market (Crawford Market), Victor...</td>\n",
       "    </tr>\n",
       "    <tr>\n",
       "      <th>...</th>\n",
       "      <td>...</td>\n",
       "      <td>...</td>\n",
       "      <td>...</td>\n",
       "      <td>...</td>\n",
       "      <td>...</td>\n",
       "      <td>...</td>\n",
       "    </tr>\n",
       "    <tr>\n",
       "      <th>222</th>\n",
       "      <td>222</td>\n",
       "      <td>T</td>\n",
       "      <td>104</td>\n",
       "      <td>Prakash Gangadhare</td>\n",
       "      <td>9820026347/ 8879997102</td>\n",
       "      <td>Mulund Railway Station (West), Tambe Nagar, In...</td>\n",
       "    </tr>\n",
       "    <tr>\n",
       "      <th>223</th>\n",
       "      <td>223</td>\n",
       "      <td>T</td>\n",
       "      <td>105</td>\n",
       "      <td>Rajani Keni</td>\n",
       "      <td>9664771110</td>\n",
       "      <td>Mulund Railway Station (East), Gavhanpada, Nil...</td>\n",
       "    </tr>\n",
       "    <tr>\n",
       "      <th>224</th>\n",
       "      <td>224</td>\n",
       "      <td>T</td>\n",
       "      <td>106</td>\n",
       "      <td>Prabhakar Tukaram Shinde</td>\n",
       "      <td>9819502777</td>\n",
       "      <td>Hariom Nagar, MHADA Colony, MHADA BEST Depot, ...</td>\n",
       "    </tr>\n",
       "    <tr>\n",
       "      <th>225</th>\n",
       "      <td>225</td>\n",
       "      <td>T</td>\n",
       "      <td>107</td>\n",
       "      <td>Smita Kamble</td>\n",
       "      <td>9820754224/5</td>\n",
       "      <td>Nahurgaonthan, Mulund BEST Bus Depot, St. Paio...</td>\n",
       "    </tr>\n",
       "    <tr>\n",
       "      <th>226</th>\n",
       "      <td>226</td>\n",
       "      <td>T</td>\n",
       "      <td>108</td>\n",
       "      <td>Neil Somaiya</td>\n",
       "      <td>9967592582</td>\n",
       "      <td>Rahul Nagar, Moti Nagar, Hanumanpada, Asha Nag...</td>\n",
       "    </tr>\n",
       "  </tbody>\n",
       "</table>\n",
       "<p>227 rows × 6 columns</p>\n",
       "</div>"
      ],
      "text/plain": [
       "     Unnamed: 0 Ward  Prabhag           Councillor name  \\\n",
       "0             0    A      225     Sanap Sujata Digvijay   \n",
       "1             1    A      226         Harshita Narvekar   \n",
       "2             2    A      227          Makrand Narvekar   \n",
       "3             3    B      223      Gyanraj Nikita Nikam   \n",
       "4             4    B      224          Afreen Lakdawala   \n",
       "..          ...  ...      ...                       ...   \n",
       "222         222    T      104        Prakash Gangadhare   \n",
       "223         223    T      105               Rajani Keni   \n",
       "224         224    T      106  Prabhakar Tukaram Shinde   \n",
       "225         225    T      107              Smita Kamble   \n",
       "226         226    T      108              Neil Somaiya   \n",
       "\n",
       "                                Contact  \\\n",
       "0    9870040562/ 9892501545/ 9820915097   \n",
       "1                9619995533/ 9819095533   \n",
       "2                            9833105553   \n",
       "3                9819358628/ 9820030562   \n",
       "4                            9892553553   \n",
       "..                                  ...   \n",
       "222              9820026347/ 8879997102   \n",
       "223                          9664771110   \n",
       "224                          9819502777   \n",
       "225                        9820754224/5   \n",
       "226                          9967592582   \n",
       "\n",
       "                                    Constituency Areas  \n",
       "0    Fort, Brabourne Stadium, Colaba Market, Colaba...  \n",
       "1    Sasoon Docks, World Trade Centre, Cuffe Parade...  \n",
       "2    RC Church, Colaba Dandi, Navy Nagar, Geeta Nag...  \n",
       "3    Umarkhadi, Dana Bundar, Princess Dock, Wadi Bu...  \n",
       "4    Mahatma Phule Market (Crawford Market), Victor...  \n",
       "..                                                 ...  \n",
       "222  Mulund Railway Station (West), Tambe Nagar, In...  \n",
       "223  Mulund Railway Station (East), Gavhanpada, Nil...  \n",
       "224  Hariom Nagar, MHADA Colony, MHADA BEST Depot, ...  \n",
       "225  Nahurgaonthan, Mulund BEST Bus Depot, St. Paio...  \n",
       "226  Rahul Nagar, Moti Nagar, Hanumanpada, Asha Nag...  \n",
       "\n",
       "[227 rows x 6 columns]"
      ]
     },
     "execution_count": 15,
     "metadata": {},
     "output_type": "execute_result"
    }
   ],
   "source": [
    "data = pd.read_csv(\"Councillors_info.csv\")\n",
    "data"
   ]
  }
 ],
 "metadata": {
  "kernelspec": {
   "display_name": "Python 3",
   "language": "python",
   "name": "python3"
  },
  "language_info": {
   "codemirror_mode": {
    "name": "ipython",
    "version": 3
   },
   "file_extension": ".py",
   "mimetype": "text/x-python",
   "name": "python",
   "nbconvert_exporter": "python",
   "pygments_lexer": "ipython3",
   "version": "3.8.8"
  }
 },
 "nbformat": 4,
 "nbformat_minor": 5
}
